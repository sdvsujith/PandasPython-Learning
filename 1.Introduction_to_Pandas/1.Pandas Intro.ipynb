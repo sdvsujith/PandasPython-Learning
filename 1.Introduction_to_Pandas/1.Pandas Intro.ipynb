{
  "metadata": {
    "kernelspec": {
      "name": "python",
      "display_name": "Python (Pyodide)",
      "language": "python"
    },
    "language_info": {
      "codemirror_mode": {
        "name": "python",
        "version": 3
      },
      "file_extension": ".py",
      "mimetype": "text/x-python",
      "name": "python",
      "nbconvert_exporter": "python",
      "pygments_lexer": "ipython3",
      "version": "3.8"
    }
  },
  "nbformat_minor": 5,
  "nbformat": 4,
  "cells": [
    {
      "id": "2f164b74-046e-4931-a165-724f09ff7331",
      "cell_type": "code",
      "source": "import pandas as pd",
      "metadata": {
        "trusted": true
      },
      "outputs": [],
      "execution_count": 1
    },
    {
      "id": "39a2a643-22ae-4fca-b54c-770f9b539805",
      "cell_type": "code",
      "source": "#Reading File \ndf=pd.read_csv(\"nyc_weather.csv\")\ndf.head(5)",
      "metadata": {
        "trusted": true
      },
      "outputs": [
        {
          "execution_count": 2,
          "output_type": "execute_result",
          "data": {
            "text/plain": "        EST  Temperature  DewPoint  Humidity  Sea Level PressureIn  \\\n0  1/1/2016           38        23        52                 30.03   \n1  1/2/2016           36        18        46                 30.02   \n2  1/3/2016           40        21        47                 29.86   \n3  1/4/2016           25         9        44                 30.05   \n4  1/5/2016           20        -3        41                 30.57   \n\n   VisibilityMiles  WindSpeedMPH PrecipitationIn  CloudCover Events  \\\n0               10           8.0               0           5    NaN   \n1               10           7.0               0           3    NaN   \n2               10           8.0               0           1    NaN   \n3               10           9.0               0           3    NaN   \n4               10           5.0               0           0    NaN   \n\n   WindDirDegrees  \n0             281  \n1             275  \n2             277  \n3             345  \n4             333  ",
            "text/html": "<div>\n<style scoped>\n    .dataframe tbody tr th:only-of-type {\n        vertical-align: middle;\n    }\n\n    .dataframe tbody tr th {\n        vertical-align: top;\n    }\n\n    .dataframe thead th {\n        text-align: right;\n    }\n</style>\n<table border=\"1\" class=\"dataframe\">\n  <thead>\n    <tr style=\"text-align: right;\">\n      <th></th>\n      <th>EST</th>\n      <th>Temperature</th>\n      <th>DewPoint</th>\n      <th>Humidity</th>\n      <th>Sea Level PressureIn</th>\n      <th>VisibilityMiles</th>\n      <th>WindSpeedMPH</th>\n      <th>PrecipitationIn</th>\n      <th>CloudCover</th>\n      <th>Events</th>\n      <th>WindDirDegrees</th>\n    </tr>\n  </thead>\n  <tbody>\n    <tr>\n      <th>0</th>\n      <td>1/1/2016</td>\n      <td>38</td>\n      <td>23</td>\n      <td>52</td>\n      <td>30.03</td>\n      <td>10</td>\n      <td>8.0</td>\n      <td>0</td>\n      <td>5</td>\n      <td>NaN</td>\n      <td>281</td>\n    </tr>\n    <tr>\n      <th>1</th>\n      <td>1/2/2016</td>\n      <td>36</td>\n      <td>18</td>\n      <td>46</td>\n      <td>30.02</td>\n      <td>10</td>\n      <td>7.0</td>\n      <td>0</td>\n      <td>3</td>\n      <td>NaN</td>\n      <td>275</td>\n    </tr>\n    <tr>\n      <th>2</th>\n      <td>1/3/2016</td>\n      <td>40</td>\n      <td>21</td>\n      <td>47</td>\n      <td>29.86</td>\n      <td>10</td>\n      <td>8.0</td>\n      <td>0</td>\n      <td>1</td>\n      <td>NaN</td>\n      <td>277</td>\n    </tr>\n    <tr>\n      <th>3</th>\n      <td>1/4/2016</td>\n      <td>25</td>\n      <td>9</td>\n      <td>44</td>\n      <td>30.05</td>\n      <td>10</td>\n      <td>9.0</td>\n      <td>0</td>\n      <td>3</td>\n      <td>NaN</td>\n      <td>345</td>\n    </tr>\n    <tr>\n      <th>4</th>\n      <td>1/5/2016</td>\n      <td>20</td>\n      <td>-3</td>\n      <td>41</td>\n      <td>30.57</td>\n      <td>10</td>\n      <td>5.0</td>\n      <td>0</td>\n      <td>0</td>\n      <td>NaN</td>\n      <td>333</td>\n    </tr>\n  </tbody>\n</table>\n</div>"
          },
          "metadata": {}
        }
      ],
      "execution_count": 2
    },
    {
      "id": "9dfbb0b3-e637-4a2b-8f31-a1b170f46500",
      "cell_type": "code",
      "source": "#getting Max  of column [Max Temperature in this Case]\ndf['Temperature'].max()",
      "metadata": {
        "trusted": true
      },
      "outputs": [
        {
          "execution_count": 3,
          "output_type": "execute_result",
          "data": {
            "text/plain": "np.int64(50)"
          },
          "metadata": {}
        }
      ],
      "execution_count": 3
    },
    {
      "id": "10beeac6-4d5f-4d8e-95cd-085e26302f67",
      "cell_type": "code",
      "source": "#getting Min  of column [Min Temperature in this Case]\ndf['Temperature'].min()",
      "metadata": {
        "trusted": true
      },
      "outputs": [
        {
          "execution_count": 4,
          "output_type": "execute_result",
          "data": {
            "text/plain": "np.int64(20)"
          },
          "metadata": {}
        }
      ],
      "execution_count": 4
    },
    {
      "id": "1581c86c-bcef-48cc-8d00-7369164d4fcf",
      "cell_type": "code",
      "source": "#Dates on which it Rained [Where Condition ]\ndf['EST'][df['Events']=='Rain']",
      "metadata": {
        "trusted": true
      },
      "outputs": [
        {
          "execution_count": 5,
          "output_type": "execute_result",
          "data": {
            "text/plain": "8      1/9/2016\n9     1/10/2016\n15    1/16/2016\n26    1/27/2016\nName: EST, dtype: object"
          },
          "metadata": {}
        }
      ],
      "execution_count": 5
    },
    {
      "id": "884ba9f1-05b4-46d3-8298-04a02452ec4a",
      "cell_type": "code",
      "source": "#Average Wind Speed\ndf['WindSpeedMPH'].mean()",
      "metadata": {
        "trusted": true
      },
      "outputs": [
        {
          "execution_count": 6,
          "output_type": "execute_result",
          "data": {
            "text/plain": "np.float64(6.892857142857143)"
          },
          "metadata": {}
        }
      ],
      "execution_count": 6
    },
    {
      "id": "d505f6dc-2521-4d2c-aa86-683d908ab20a",
      "cell_type": "code",
      "source": "#Fill 0 for all NA Value \ndf.fillna(0,inplace=True)",
      "metadata": {
        "trusted": true
      },
      "outputs": [],
      "execution_count": null
    },
    {
      "id": "728d970a-da7d-4b1a-963e-5756a3b3c2c6",
      "cell_type": "code",
      "source": "#Fill 0 for NA Value in \ndf['WindSpeedMPH'].fillna(value=0,inplace=True)",
      "metadata": {
        "trusted": true
      },
      "outputs": [
        {
          "name": "stderr",
          "output_type": "stream",
          "text": "<ipython-input-7-213ff7b2e298>:2: FutureWarning: A value is trying to be set on a copy of a DataFrame or Series through chained assignment using an inplace method.\nThe behavior will change in pandas 3.0. This inplace method will never work because the intermediate object on which we are setting values always behaves as a copy.\n\nFor example, when doing 'df[col].method(value, inplace=True)', try using 'df.method({col: value}, inplace=True)' or df[col] = df[col].method(value) instead, to perform the operation inplace on the original object.\n\n\n  df['WindSpeedMPH'].fillna(value=0,inplace=True)\n"
        }
      ],
      "execution_count": 7
    },
    {
      "id": "a861738d-c9ef-45bf-b830-9cc133c85595",
      "cell_type": "code",
      "source": "#Average Wind Speed\ndf['WindSpeedMPH'].mean()",
      "metadata": {
        "trusted": true
      },
      "outputs": [
        {
          "execution_count": 8,
          "output_type": "execute_result",
          "data": {
            "text/plain": "np.float64(6.225806451612903)"
          },
          "metadata": {}
        }
      ],
      "execution_count": 8
    },
    {
      "id": "46e3cbf1-22e0-4ea4-98f3-3bc59152fb54",
      "cell_type": "code",
      "source": "",
      "metadata": {
        "trusted": true
      },
      "outputs": [],
      "execution_count": null
    }
  ]
}