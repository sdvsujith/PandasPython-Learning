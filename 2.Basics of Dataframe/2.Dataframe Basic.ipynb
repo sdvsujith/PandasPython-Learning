{
  "metadata": {
    "kernelspec": {
      "name": "python",
      "display_name": "Python (Pyodide)",
      "language": "python"
    },
    "language_info": {
      "codemirror_mode": {
        "name": "python",
        "version": 3
      },
      "file_extension": ".py",
      "mimetype": "text/x-python",
      "name": "python",
      "nbconvert_exporter": "python",
      "pygments_lexer": "ipython3",
      "version": "3.8"
    }
  },
  "nbformat_minor": 5,
  "nbformat": 4,
  "cells": [
    {
      "id": "99facf5c-8fcf-4432-8ea6-6aeb9f36feef",
      "cell_type": "code",
      "source": "import pandas as pd",
      "metadata": {
        "trusted": true
      },
      "outputs": [],
      "execution_count": 1
    },
    {
      "id": "e670ee90-9b07-4a60-9bb2-2cdc19c1d31d",
      "cell_type": "code",
      "source": "#Reading File and pushing data into Dataframe\ndf=pd.read_csv(\"weather_data.csv\")\ndf",
      "metadata": {
        "trusted": true
      },
      "outputs": [
        {
          "execution_count": 4,
          "output_type": "execute_result",
          "data": {
            "text/plain": "        day  temperature  windspeed  event\n0  1/1/2017           32          6   Rain\n1  1/2/2017           35          7  Sunny\n2  1/3/2017           28          2   Snow\n3  1/4/2017           24          7   Snow\n4  1/5/2017           32          4   Rain\n5  1/6/2017           31          2  Sunny",
            "text/html": "<div>\n<style scoped>\n    .dataframe tbody tr th:only-of-type {\n        vertical-align: middle;\n    }\n\n    .dataframe tbody tr th {\n        vertical-align: top;\n    }\n\n    .dataframe thead th {\n        text-align: right;\n    }\n</style>\n<table border=\"1\" class=\"dataframe\">\n  <thead>\n    <tr style=\"text-align: right;\">\n      <th></th>\n      <th>day</th>\n      <th>temperature</th>\n      <th>windspeed</th>\n      <th>event</th>\n    </tr>\n  </thead>\n  <tbody>\n    <tr>\n      <th>0</th>\n      <td>1/1/2017</td>\n      <td>32</td>\n      <td>6</td>\n      <td>Rain</td>\n    </tr>\n    <tr>\n      <th>1</th>\n      <td>1/2/2017</td>\n      <td>35</td>\n      <td>7</td>\n      <td>Sunny</td>\n    </tr>\n    <tr>\n      <th>2</th>\n      <td>1/3/2017</td>\n      <td>28</td>\n      <td>2</td>\n      <td>Snow</td>\n    </tr>\n    <tr>\n      <th>3</th>\n      <td>1/4/2017</td>\n      <td>24</td>\n      <td>7</td>\n      <td>Snow</td>\n    </tr>\n    <tr>\n      <th>4</th>\n      <td>1/5/2017</td>\n      <td>32</td>\n      <td>4</td>\n      <td>Rain</td>\n    </tr>\n    <tr>\n      <th>5</th>\n      <td>1/6/2017</td>\n      <td>31</td>\n      <td>2</td>\n      <td>Sunny</td>\n    </tr>\n  </tbody>\n</table>\n</div>"
          },
          "metadata": {}
        }
      ],
      "execution_count": 4
    },
    {
      "id": "328bf21d-6ab8-410d-9279-53ca81e934db",
      "cell_type": "code",
      "source": "# Creating Dataframe by adding data directly from array\nimport pandas as pd\nweather_data = {\n    'day': ['1/1/2017','1/2/2017','1/3/2017','1/4/2017','1/5/2017','1/6/2017'],\n    'temperature': [32,35,28,24,32,31],\n    'windspeed': [6,7,2,7,4,2],\n    'event': ['Rain', 'Sunny', 'Snow','Snow','Rain', 'Sunny']\n}\ndf = pd.DataFrame(weather_data)\n#df = pd.read_csv(\"weather_data.csv\")\ndf",
      "metadata": {
        "trusted": true
      },
      "outputs": [
        {
          "execution_count": 1,
          "output_type": "execute_result",
          "data": {
            "text/plain": "        day  temperature  windspeed  event\n0  1/1/2017           32          6   Rain\n1  1/2/2017           35          7  Sunny\n2  1/3/2017           28          2   Snow\n3  1/4/2017           24          7   Snow\n4  1/5/2017           32          4   Rain\n5  1/6/2017           31          2  Sunny",
            "text/html": "<div>\n<style scoped>\n    .dataframe tbody tr th:only-of-type {\n        vertical-align: middle;\n    }\n\n    .dataframe tbody tr th {\n        vertical-align: top;\n    }\n\n    .dataframe thead th {\n        text-align: right;\n    }\n</style>\n<table border=\"1\" class=\"dataframe\">\n  <thead>\n    <tr style=\"text-align: right;\">\n      <th></th>\n      <th>day</th>\n      <th>temperature</th>\n      <th>windspeed</th>\n      <th>event</th>\n    </tr>\n  </thead>\n  <tbody>\n    <tr>\n      <th>0</th>\n      <td>1/1/2017</td>\n      <td>32</td>\n      <td>6</td>\n      <td>Rain</td>\n    </tr>\n    <tr>\n      <th>1</th>\n      <td>1/2/2017</td>\n      <td>35</td>\n      <td>7</td>\n      <td>Sunny</td>\n    </tr>\n    <tr>\n      <th>2</th>\n      <td>1/3/2017</td>\n      <td>28</td>\n      <td>2</td>\n      <td>Snow</td>\n    </tr>\n    <tr>\n      <th>3</th>\n      <td>1/4/2017</td>\n      <td>24</td>\n      <td>7</td>\n      <td>Snow</td>\n    </tr>\n    <tr>\n      <th>4</th>\n      <td>1/5/2017</td>\n      <td>32</td>\n      <td>4</td>\n      <td>Rain</td>\n    </tr>\n    <tr>\n      <th>5</th>\n      <td>1/6/2017</td>\n      <td>31</td>\n      <td>2</td>\n      <td>Sunny</td>\n    </tr>\n  </tbody>\n</table>\n</div>"
          },
          "metadata": {}
        }
      ],
      "execution_count": 1
    },
    {
      "id": "94dbe663-29e3-4850-b523-ffb424fb4078",
      "cell_type": "code",
      "source": "# Getting table structure [No of Rows and Column]\ndf.shape",
      "metadata": {
        "trusted": true
      },
      "outputs": [
        {
          "execution_count": 3,
          "output_type": "execute_result",
          "data": {
            "text/plain": "(6, 4)"
          },
          "metadata": {}
        }
      ],
      "execution_count": 3
    },
    {
      "id": "931bf86e-18db-41eb-80fd-362fd2aa0f4d",
      "cell_type": "code",
      "source": "# Storing shape into veriable and print rows and columns\nrows,columns=df.shape\nrows",
      "metadata": {
        "trusted": true
      },
      "outputs": [
        {
          "execution_count": 5,
          "output_type": "execute_result",
          "data": {
            "text/plain": "6"
          },
          "metadata": {}
        }
      ],
      "execution_count": 5
    },
    {
      "id": "763715c8-21ac-4704-96f5-662bab3e70f9",
      "cell_type": "code",
      "source": "#Print top/Bottom rows to check if all column are right\ndf.head(2) #Top 2 rows\ndf.tail(4) # Bottom 4 rows",
      "metadata": {
        "trusted": true
      },
      "outputs": [
        {
          "execution_count": 7,
          "output_type": "execute_result",
          "data": {
            "text/plain": "        day  temperature  windspeed  event\n2  1/3/2017           28          2   Snow\n3  1/4/2017           24          7   Snow\n4  1/5/2017           32          4   Rain\n5  1/6/2017           31          2  Sunny",
            "text/html": "<div>\n<style scoped>\n    .dataframe tbody tr th:only-of-type {\n        vertical-align: middle;\n    }\n\n    .dataframe tbody tr th {\n        vertical-align: top;\n    }\n\n    .dataframe thead th {\n        text-align: right;\n    }\n</style>\n<table border=\"1\" class=\"dataframe\">\n  <thead>\n    <tr style=\"text-align: right;\">\n      <th></th>\n      <th>day</th>\n      <th>temperature</th>\n      <th>windspeed</th>\n      <th>event</th>\n    </tr>\n  </thead>\n  <tbody>\n    <tr>\n      <th>2</th>\n      <td>1/3/2017</td>\n      <td>28</td>\n      <td>2</td>\n      <td>Snow</td>\n    </tr>\n    <tr>\n      <th>3</th>\n      <td>1/4/2017</td>\n      <td>24</td>\n      <td>7</td>\n      <td>Snow</td>\n    </tr>\n    <tr>\n      <th>4</th>\n      <td>1/5/2017</td>\n      <td>32</td>\n      <td>4</td>\n      <td>Rain</td>\n    </tr>\n    <tr>\n      <th>5</th>\n      <td>1/6/2017</td>\n      <td>31</td>\n      <td>2</td>\n      <td>Sunny</td>\n    </tr>\n  </tbody>\n</table>\n</div>"
          },
          "metadata": {}
        }
      ],
      "execution_count": 7
    },
    {
      "id": "83585e2b-195f-4cf0-9d0b-ff8aa3ed3dcf",
      "cell_type": "code",
      "source": "#Pring defined row number E.g 2 to 4 [Note :It includes row number 2 but not row number 5]\ndf[2:5]",
      "metadata": {
        "trusted": true
      },
      "outputs": [
        {
          "execution_count": 9,
          "output_type": "execute_result",
          "data": {
            "text/plain": "        day  temperature  windspeed event\n2  1/3/2017           28          2  Snow\n3  1/4/2017           24          7  Snow\n4  1/5/2017           32          4  Rain",
            "text/html": "<div>\n<style scoped>\n    .dataframe tbody tr th:only-of-type {\n        vertical-align: middle;\n    }\n\n    .dataframe tbody tr th {\n        vertical-align: top;\n    }\n\n    .dataframe thead th {\n        text-align: right;\n    }\n</style>\n<table border=\"1\" class=\"dataframe\">\n  <thead>\n    <tr style=\"text-align: right;\">\n      <th></th>\n      <th>day</th>\n      <th>temperature</th>\n      <th>windspeed</th>\n      <th>event</th>\n    </tr>\n  </thead>\n  <tbody>\n    <tr>\n      <th>2</th>\n      <td>1/3/2017</td>\n      <td>28</td>\n      <td>2</td>\n      <td>Snow</td>\n    </tr>\n    <tr>\n      <th>3</th>\n      <td>1/4/2017</td>\n      <td>24</td>\n      <td>7</td>\n      <td>Snow</td>\n    </tr>\n    <tr>\n      <th>4</th>\n      <td>1/5/2017</td>\n      <td>32</td>\n      <td>4</td>\n      <td>Rain</td>\n    </tr>\n  </tbody>\n</table>\n</div>"
          },
          "metadata": {}
        }
      ],
      "execution_count": 9
    },
    {
      "id": "9b265d32-1221-4724-a10a-c4b554fa17ce",
      "cell_type": "code",
      "source": "#If end index number is  not given it will pring from defined beginning number to end [In our case 2 to row 5]\ndf[2:]",
      "metadata": {
        "trusted": true
      },
      "outputs": [
        {
          "execution_count": 10,
          "output_type": "execute_result",
          "data": {
            "text/plain": "        day  temperature  windspeed  event\n2  1/3/2017           28          2   Snow\n3  1/4/2017           24          7   Snow\n4  1/5/2017           32          4   Rain\n5  1/6/2017           31          2  Sunny",
            "text/html": "<div>\n<style scoped>\n    .dataframe tbody tr th:only-of-type {\n        vertical-align: middle;\n    }\n\n    .dataframe tbody tr th {\n        vertical-align: top;\n    }\n\n    .dataframe thead th {\n        text-align: right;\n    }\n</style>\n<table border=\"1\" class=\"dataframe\">\n  <thead>\n    <tr style=\"text-align: right;\">\n      <th></th>\n      <th>day</th>\n      <th>temperature</th>\n      <th>windspeed</th>\n      <th>event</th>\n    </tr>\n  </thead>\n  <tbody>\n    <tr>\n      <th>2</th>\n      <td>1/3/2017</td>\n      <td>28</td>\n      <td>2</td>\n      <td>Snow</td>\n    </tr>\n    <tr>\n      <th>3</th>\n      <td>1/4/2017</td>\n      <td>24</td>\n      <td>7</td>\n      <td>Snow</td>\n    </tr>\n    <tr>\n      <th>4</th>\n      <td>1/5/2017</td>\n      <td>32</td>\n      <td>4</td>\n      <td>Rain</td>\n    </tr>\n    <tr>\n      <th>5</th>\n      <td>1/6/2017</td>\n      <td>31</td>\n      <td>2</td>\n      <td>Sunny</td>\n    </tr>\n  </tbody>\n</table>\n</div>"
          },
          "metadata": {}
        }
      ],
      "execution_count": 10
    },
    {
      "id": "96347fb1-2bc4-4597-bd56-1f1cf1483534",
      "cell_type": "code",
      "source": "#If beginning index number is  not given it will pring from beginning to entered index number [In our case 2 to row 5]\ndf[:3]",
      "metadata": {
        "trusted": true
      },
      "outputs": [
        {
          "execution_count": 11,
          "output_type": "execute_result",
          "data": {
            "text/plain": "        day  temperature  windspeed  event\n0  1/1/2017           32          6   Rain\n1  1/2/2017           35          7  Sunny\n2  1/3/2017           28          2   Snow",
            "text/html": "<div>\n<style scoped>\n    .dataframe tbody tr th:only-of-type {\n        vertical-align: middle;\n    }\n\n    .dataframe tbody tr th {\n        vertical-align: top;\n    }\n\n    .dataframe thead th {\n        text-align: right;\n    }\n</style>\n<table border=\"1\" class=\"dataframe\">\n  <thead>\n    <tr style=\"text-align: right;\">\n      <th></th>\n      <th>day</th>\n      <th>temperature</th>\n      <th>windspeed</th>\n      <th>event</th>\n    </tr>\n  </thead>\n  <tbody>\n    <tr>\n      <th>0</th>\n      <td>1/1/2017</td>\n      <td>32</td>\n      <td>6</td>\n      <td>Rain</td>\n    </tr>\n    <tr>\n      <th>1</th>\n      <td>1/2/2017</td>\n      <td>35</td>\n      <td>7</td>\n      <td>Sunny</td>\n    </tr>\n    <tr>\n      <th>2</th>\n      <td>1/3/2017</td>\n      <td>28</td>\n      <td>2</td>\n      <td>Snow</td>\n    </tr>\n  </tbody>\n</table>\n</div>"
          },
          "metadata": {}
        }
      ],
      "execution_count": 11
    },
    {
      "id": "cbde9843-429a-44ad-a734-e547a9e1a8e8",
      "cell_type": "code",
      "source": "#Pringting the column names of dataframe\ndf.columns",
      "metadata": {
        "trusted": true
      },
      "outputs": [
        {
          "execution_count": 13,
          "output_type": "execute_result",
          "data": {
            "text/plain": "Index(['day', 'temperature', 'windspeed', 'event'], dtype='object')"
          },
          "metadata": {}
        }
      ],
      "execution_count": 13
    },
    {
      "id": "9ddd3106-573a-4a68-85d5-0ec60dab1364",
      "cell_type": "code",
      "source": "#Printing the individual column \ndf.day # or df['day']",
      "metadata": {
        "trusted": true
      },
      "outputs": [
        {
          "execution_count": 18,
          "output_type": "execute_result",
          "data": {
            "text/plain": "0    1/1/2017\n1    1/2/2017\n2    1/3/2017\n3    1/4/2017\n4    1/5/2017\n5    1/6/2017\nName: day, dtype: object"
          },
          "metadata": {}
        }
      ],
      "execution_count": 18
    },
    {
      "id": "731785c9-99ac-4839-9e47-b29b58fd3933",
      "cell_type": "code",
      "source": "#Printing only few columns\ndf[['day','event']]",
      "metadata": {
        "trusted": true
      },
      "outputs": [
        {
          "execution_count": 20,
          "output_type": "execute_result",
          "data": {
            "text/plain": "        day  event\n0  1/1/2017   Rain\n1  1/2/2017  Sunny\n2  1/3/2017   Snow\n3  1/4/2017   Snow\n4  1/5/2017   Rain\n5  1/6/2017  Sunny",
            "text/html": "<div>\n<style scoped>\n    .dataframe tbody tr th:only-of-type {\n        vertical-align: middle;\n    }\n\n    .dataframe tbody tr th {\n        vertical-align: top;\n    }\n\n    .dataframe thead th {\n        text-align: right;\n    }\n</style>\n<table border=\"1\" class=\"dataframe\">\n  <thead>\n    <tr style=\"text-align: right;\">\n      <th></th>\n      <th>day</th>\n      <th>event</th>\n    </tr>\n  </thead>\n  <tbody>\n    <tr>\n      <th>0</th>\n      <td>1/1/2017</td>\n      <td>Rain</td>\n    </tr>\n    <tr>\n      <th>1</th>\n      <td>1/2/2017</td>\n      <td>Sunny</td>\n    </tr>\n    <tr>\n      <th>2</th>\n      <td>1/3/2017</td>\n      <td>Snow</td>\n    </tr>\n    <tr>\n      <th>3</th>\n      <td>1/4/2017</td>\n      <td>Snow</td>\n    </tr>\n    <tr>\n      <th>4</th>\n      <td>1/5/2017</td>\n      <td>Rain</td>\n    </tr>\n    <tr>\n      <th>5</th>\n      <td>1/6/2017</td>\n      <td>Sunny</td>\n    </tr>\n  </tbody>\n</table>\n</div>"
          },
          "metadata": {}
        }
      ],
      "execution_count": 20
    },
    {
      "id": "7c804948-1157-493c-95db-a74aee5400c3",
      "cell_type": "code",
      "source": "#Max Temperature\ndf['temperature'].max() #df['temperature'].min() / df['temperature'].mean()/ df['temperature'].std() ",
      "metadata": {
        "trusted": true
      },
      "outputs": [
        {
          "execution_count": 23,
          "output_type": "execute_result",
          "data": {
            "text/plain": "np.int64(35)"
          },
          "metadata": {}
        }
      ],
      "execution_count": 23
    },
    {
      "id": "c2d19498-eaba-415e-b5d1-40aa7ad85a46",
      "cell_type": "code",
      "source": "#statestics of dataset\ndf.describe()",
      "metadata": {
        "trusted": true
      },
      "outputs": [
        {
          "execution_count": 24,
          "output_type": "execute_result",
          "data": {
            "text/plain": "       temperature  windspeed\ncount     6.000000   6.000000\nmean     30.333333   4.666667\nstd       3.829708   2.338090\nmin      24.000000   2.000000\n25%      28.750000   2.500000\n50%      31.500000   5.000000\n75%      32.000000   6.750000\nmax      35.000000   7.000000",
            "text/html": "<div>\n<style scoped>\n    .dataframe tbody tr th:only-of-type {\n        vertical-align: middle;\n    }\n\n    .dataframe tbody tr th {\n        vertical-align: top;\n    }\n\n    .dataframe thead th {\n        text-align: right;\n    }\n</style>\n<table border=\"1\" class=\"dataframe\">\n  <thead>\n    <tr style=\"text-align: right;\">\n      <th></th>\n      <th>temperature</th>\n      <th>windspeed</th>\n    </tr>\n  </thead>\n  <tbody>\n    <tr>\n      <th>count</th>\n      <td>6.000000</td>\n      <td>6.000000</td>\n    </tr>\n    <tr>\n      <th>mean</th>\n      <td>30.333333</td>\n      <td>4.666667</td>\n    </tr>\n    <tr>\n      <th>std</th>\n      <td>3.829708</td>\n      <td>2.338090</td>\n    </tr>\n    <tr>\n      <th>min</th>\n      <td>24.000000</td>\n      <td>2.000000</td>\n    </tr>\n    <tr>\n      <th>25%</th>\n      <td>28.750000</td>\n      <td>2.500000</td>\n    </tr>\n    <tr>\n      <th>50%</th>\n      <td>31.500000</td>\n      <td>5.000000</td>\n    </tr>\n    <tr>\n      <th>75%</th>\n      <td>32.000000</td>\n      <td>6.750000</td>\n    </tr>\n    <tr>\n      <th>max</th>\n      <td>35.000000</td>\n      <td>7.000000</td>\n    </tr>\n  </tbody>\n</table>\n</div>"
          },
          "metadata": {}
        }
      ],
      "execution_count": 24
    },
    {
      "id": "89303c43-9020-4dca-b2e0-5038795c2070",
      "cell_type": "code",
      "source": "#Conditionally select data\n#Temperature Greater than 32\ndf[df['temperature']>=32]",
      "metadata": {
        "trusted": true
      },
      "outputs": [
        {
          "execution_count": 30,
          "output_type": "execute_result",
          "data": {
            "text/plain": "        day  temperature  windspeed  event\n0  1/1/2017           32          6   Rain\n1  1/2/2017           35          7  Sunny\n4  1/5/2017           32          4   Rain",
            "text/html": "<div>\n<style scoped>\n    .dataframe tbody tr th:only-of-type {\n        vertical-align: middle;\n    }\n\n    .dataframe tbody tr th {\n        vertical-align: top;\n    }\n\n    .dataframe thead th {\n        text-align: right;\n    }\n</style>\n<table border=\"1\" class=\"dataframe\">\n  <thead>\n    <tr style=\"text-align: right;\">\n      <th></th>\n      <th>day</th>\n      <th>temperature</th>\n      <th>windspeed</th>\n      <th>event</th>\n    </tr>\n  </thead>\n  <tbody>\n    <tr>\n      <th>0</th>\n      <td>1/1/2017</td>\n      <td>32</td>\n      <td>6</td>\n      <td>Rain</td>\n    </tr>\n    <tr>\n      <th>1</th>\n      <td>1/2/2017</td>\n      <td>35</td>\n      <td>7</td>\n      <td>Sunny</td>\n    </tr>\n    <tr>\n      <th>4</th>\n      <td>1/5/2017</td>\n      <td>32</td>\n      <td>4</td>\n      <td>Rain</td>\n    </tr>\n  </tbody>\n</table>\n</div>"
          },
          "metadata": {}
        }
      ],
      "execution_count": 30
    },
    {
      "id": "7e3308fb-3464-4de9-9ec0-b21f70bfcb68",
      "cell_type": "code",
      "source": "#Just porint the day windspeed for days when temp >32\ndf[['day','windspeed']][df['temperature']>=32]  #Syntax df[[column1,column2]][condition]",
      "metadata": {
        "trusted": true
      },
      "outputs": [
        {
          "execution_count": 31,
          "output_type": "execute_result",
          "data": {
            "text/plain": "        day  windspeed\n0  1/1/2017          6\n1  1/2/2017          7\n4  1/5/2017          4",
            "text/html": "<div>\n<style scoped>\n    .dataframe tbody tr th:only-of-type {\n        vertical-align: middle;\n    }\n\n    .dataframe tbody tr th {\n        vertical-align: top;\n    }\n\n    .dataframe thead th {\n        text-align: right;\n    }\n</style>\n<table border=\"1\" class=\"dataframe\">\n  <thead>\n    <tr style=\"text-align: right;\">\n      <th></th>\n      <th>day</th>\n      <th>windspeed</th>\n    </tr>\n  </thead>\n  <tbody>\n    <tr>\n      <th>0</th>\n      <td>1/1/2017</td>\n      <td>6</td>\n    </tr>\n    <tr>\n      <th>1</th>\n      <td>1/2/2017</td>\n      <td>7</td>\n    </tr>\n    <tr>\n      <th>4</th>\n      <td>1/5/2017</td>\n      <td>4</td>\n    </tr>\n  </tbody>\n</table>\n</div>"
          },
          "metadata": {}
        }
      ],
      "execution_count": 31
    },
    {
      "id": "df35f15c-fed2-451f-baf3-0614d8f0c3c3",
      "cell_type": "code",
      "source": "#Print dataframe where date is max\ndf[df['temperature']==df['temperature'].max()] #df[df.temperature==df.temperature.max()]",
      "metadata": {
        "trusted": true
      },
      "outputs": [
        {
          "execution_count": 32,
          "output_type": "execute_result",
          "data": {
            "text/plain": "        day  temperature  windspeed  event\n1  1/2/2017           35          7  Sunny",
            "text/html": "<div>\n<style scoped>\n    .dataframe tbody tr th:only-of-type {\n        vertical-align: middle;\n    }\n\n    .dataframe tbody tr th {\n        vertical-align: top;\n    }\n\n    .dataframe thead th {\n        text-align: right;\n    }\n</style>\n<table border=\"1\" class=\"dataframe\">\n  <thead>\n    <tr style=\"text-align: right;\">\n      <th></th>\n      <th>day</th>\n      <th>temperature</th>\n      <th>windspeed</th>\n      <th>event</th>\n    </tr>\n  </thead>\n  <tbody>\n    <tr>\n      <th>1</th>\n      <td>1/2/2017</td>\n      <td>35</td>\n      <td>7</td>\n      <td>Sunny</td>\n    </tr>\n  </tbody>\n</table>\n</div>"
          },
          "metadata": {}
        }
      ],
      "execution_count": 32
    },
    {
      "id": "714fd5bb-d990-4d70-9ea8-b867333c49e3",
      "cell_type": "code",
      "source": "#Print selected columns from dataframe where date is max\ndf[['day','windspeed']][df['temperature']==df['temperature'].max()] #df[['day','windspeed']][df.temperature==df.temperature.max()]",
      "metadata": {
        "trusted": true
      },
      "outputs": [
        {
          "execution_count": 33,
          "output_type": "execute_result",
          "data": {
            "text/plain": "        day  windspeed\n1  1/2/2017          7",
            "text/html": "<div>\n<style scoped>\n    .dataframe tbody tr th:only-of-type {\n        vertical-align: middle;\n    }\n\n    .dataframe tbody tr th {\n        vertical-align: top;\n    }\n\n    .dataframe thead th {\n        text-align: right;\n    }\n</style>\n<table border=\"1\" class=\"dataframe\">\n  <thead>\n    <tr style=\"text-align: right;\">\n      <th></th>\n      <th>day</th>\n      <th>windspeed</th>\n    </tr>\n  </thead>\n  <tbody>\n    <tr>\n      <th>1</th>\n      <td>1/2/2017</td>\n      <td>7</td>\n    </tr>\n  </tbody>\n</table>\n</div>"
          },
          "metadata": {}
        }
      ],
      "execution_count": 33
    },
    {
      "id": "c0544a0a-b738-4fac-b577-404248e17086",
      "cell_type": "code",
      "source": "df.index #In index end n umber will not be included that means we have index from 0 to 5",
      "metadata": {
        "trusted": true
      },
      "outputs": [
        {
          "execution_count": 35,
          "output_type": "execute_result",
          "data": {
            "text/plain": "RangeIndex(start=0, stop=6, step=1)"
          },
          "metadata": {}
        }
      ],
      "execution_count": 35
    },
    {
      "id": "5341217d-17f8-4dc4-81cd-31c61f6adbae",
      "cell_type": "code",
      "source": "#Using set_index - It replaces index number to a column in dataframe\n#We will set day as our index\ndf.set_index('day',inplace=True)\ndf",
      "metadata": {
        "trusted": true
      },
      "outputs": [
        {
          "execution_count": 36,
          "output_type": "execute_result",
          "data": {
            "text/plain": "          temperature  windspeed  event\nday                                    \n1/1/2017           32          6   Rain\n1/2/2017           35          7  Sunny\n1/3/2017           28          2   Snow\n1/4/2017           24          7   Snow\n1/5/2017           32          4   Rain\n1/6/2017           31          2  Sunny",
            "text/html": "<div>\n<style scoped>\n    .dataframe tbody tr th:only-of-type {\n        vertical-align: middle;\n    }\n\n    .dataframe tbody tr th {\n        vertical-align: top;\n    }\n\n    .dataframe thead th {\n        text-align: right;\n    }\n</style>\n<table border=\"1\" class=\"dataframe\">\n  <thead>\n    <tr style=\"text-align: right;\">\n      <th></th>\n      <th>temperature</th>\n      <th>windspeed</th>\n      <th>event</th>\n    </tr>\n    <tr>\n      <th>day</th>\n      <th></th>\n      <th></th>\n      <th></th>\n    </tr>\n  </thead>\n  <tbody>\n    <tr>\n      <th>1/1/2017</th>\n      <td>32</td>\n      <td>6</td>\n      <td>Rain</td>\n    </tr>\n    <tr>\n      <th>1/2/2017</th>\n      <td>35</td>\n      <td>7</td>\n      <td>Sunny</td>\n    </tr>\n    <tr>\n      <th>1/3/2017</th>\n      <td>28</td>\n      <td>2</td>\n      <td>Snow</td>\n    </tr>\n    <tr>\n      <th>1/4/2017</th>\n      <td>24</td>\n      <td>7</td>\n      <td>Snow</td>\n    </tr>\n    <tr>\n      <th>1/5/2017</th>\n      <td>32</td>\n      <td>4</td>\n      <td>Rain</td>\n    </tr>\n    <tr>\n      <th>1/6/2017</th>\n      <td>31</td>\n      <td>2</td>\n      <td>Sunny</td>\n    </tr>\n  </tbody>\n</table>\n</div>"
          },
          "metadata": {}
        }
      ],
      "execution_count": 36
    },
    {
      "id": "01f17713-85d9-4e91-aeff-d07697d2a93d",
      "cell_type": "code",
      "source": "#Now locating the row which has date as  1/1/2017 based on new index \ndf.loc['1/1/2017']",
      "metadata": {
        "trusted": true
      },
      "outputs": [
        {
          "execution_count": 39,
          "output_type": "execute_result",
          "data": {
            "text/plain": "temperature      32\nwindspeed         6\nevent          Rain\nName: 1/1/2017, dtype: object"
          },
          "metadata": {}
        }
      ],
      "execution_count": 39
    },
    {
      "id": "7283f6b1-8b9f-4ebf-9bcf-41f7e9a5ea83",
      "cell_type": "code",
      "source": "#Resetting index if we don't need \ndf.reset_index(inplace=True)\ndf",
      "metadata": {
        "trusted": true
      },
      "outputs": [
        {
          "execution_count": 41,
          "output_type": "execute_result",
          "data": {
            "text/plain": "   index       day  temperature  windspeed  event\n0      0  1/1/2017           32          6   Rain\n1      1  1/2/2017           35          7  Sunny\n2      2  1/3/2017           28          2   Snow\n3      3  1/4/2017           24          7   Snow\n4      4  1/5/2017           32          4   Rain\n5      5  1/6/2017           31          2  Sunny",
            "text/html": "<div>\n<style scoped>\n    .dataframe tbody tr th:only-of-type {\n        vertical-align: middle;\n    }\n\n    .dataframe tbody tr th {\n        vertical-align: top;\n    }\n\n    .dataframe thead th {\n        text-align: right;\n    }\n</style>\n<table border=\"1\" class=\"dataframe\">\n  <thead>\n    <tr style=\"text-align: right;\">\n      <th></th>\n      <th>index</th>\n      <th>day</th>\n      <th>temperature</th>\n      <th>windspeed</th>\n      <th>event</th>\n    </tr>\n  </thead>\n  <tbody>\n    <tr>\n      <th>0</th>\n      <td>0</td>\n      <td>1/1/2017</td>\n      <td>32</td>\n      <td>6</td>\n      <td>Rain</td>\n    </tr>\n    <tr>\n      <th>1</th>\n      <td>1</td>\n      <td>1/2/2017</td>\n      <td>35</td>\n      <td>7</td>\n      <td>Sunny</td>\n    </tr>\n    <tr>\n      <th>2</th>\n      <td>2</td>\n      <td>1/3/2017</td>\n      <td>28</td>\n      <td>2</td>\n      <td>Snow</td>\n    </tr>\n    <tr>\n      <th>3</th>\n      <td>3</td>\n      <td>1/4/2017</td>\n      <td>24</td>\n      <td>7</td>\n      <td>Snow</td>\n    </tr>\n    <tr>\n      <th>4</th>\n      <td>4</td>\n      <td>1/5/2017</td>\n      <td>32</td>\n      <td>4</td>\n      <td>Rain</td>\n    </tr>\n    <tr>\n      <th>5</th>\n      <td>5</td>\n      <td>1/6/2017</td>\n      <td>31</td>\n      <td>2</td>\n      <td>Sunny</td>\n    </tr>\n  </tbody>\n</table>\n</div>"
          },
          "metadata": {}
        }
      ],
      "execution_count": 41
    },
    {
      "id": "c2ee0cf4-3c7b-47ab-b944-d7eabbaf8356",
      "cell_type": "code",
      "source": "",
      "metadata": {
        "trusted": true
      },
      "outputs": [],
      "execution_count": null
    }
  ]
}